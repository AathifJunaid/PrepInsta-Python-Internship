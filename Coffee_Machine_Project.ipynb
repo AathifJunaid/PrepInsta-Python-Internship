{
  "nbformat": 4,
  "nbformat_minor": 0,
  "metadata": {
    "colab": {
      "provenance": []
    },
    "kernelspec": {
      "name": "python3",
      "display_name": "Python 3"
    },
    "language_info": {
      "name": "python"
    }
  },
  "cells": [
    {
      "cell_type": "markdown",
      "source": [
        "# Coffee Machine Program Requirements\n",
        "\n",
        "Doc: https://drive.google.com/file/d/1xVbxZItVSND57UjpkRyrILQaFkLbLvmq/view?usp=drive_link"
      ],
      "metadata": {
        "id": "BPx2i4CrA93i"
      }
    },
    {
      "cell_type": "code",
      "execution_count": 24,
      "metadata": {
        "id": "LOk7qh6AA03j"
      },
      "outputs": [],
      "source": [
        "menu = {\n",
        "    \"espresso\": {\n",
        "        \"ingredients\": {\n",
        "            \"water\": 50,\n",
        "            \"coffee\": 18,\n",
        "        },\n",
        "        \"cost\": 1.5,\n",
        "    },\n",
        "    \"latte\": {\n",
        "        \"ingredients\": {\n",
        "            \"water\": 200,\n",
        "            \"milk\": 150,\n",
        "            \"coffee\": 24,\n",
        "        },\n",
        "        \"cost\": 2.5,\n",
        "    },\n",
        "    \"cappuccino\": {\n",
        "        \"ingredients\": {\n",
        "            \"water\": 250,\n",
        "            \"milk\": 100,\n",
        "            \"coffee\": 24,\n",
        "        },\n",
        "        \"cost\": 3.0,\n",
        "    }\n",
        "}\n",
        "\n",
        "profit = 0\n",
        "\n",
        "resources = {\n",
        "    \"water\": 300,\n",
        "    \"milk\": 200,\n",
        "    \"coffee\": 100\n",
        "}\n",
        "\n",
        "def check_resources(order_ingredients):\n",
        "  for item in order_ingredients:\n",
        "    if order_ingredients[item]>resources[item]:\n",
        "      print(f\"More {item} required, Please refill\")\n",
        "      return False\n",
        "    return True\n",
        "\n",
        "def process_coins():\n",
        "  total = 0\n",
        "  quarter = int(input(\"How many Quarters?:\"))\n",
        "  dimes = int(input(\"How many Dimes?:\"))\n",
        "  nickles = int(input(\"How many Nickles?:\"))\n",
        "  pennies = int(input(\"How many Pennies?:\"))\n",
        "  total = quarter*0.25 + dimes*0.1 + nickles*0.05 + pennies*0.01\n",
        "  return total\n",
        "\n",
        "def payment_process(payment,coffee_price):\n",
        "  if payment >= coffee_price:\n",
        "    global profit\n",
        "    profit += coffee_price\n",
        "    change = payment - coffee_price\n",
        "    print(f\"Here is your {change} change.\")\n",
        "    return True\n",
        "  else:\n",
        "    print(\"Not enough money, Please collect the inserted money\")\n",
        "    return False\n",
        "\n",
        "def make_coffee(coffee_name,ingredients):\n",
        "  for item in ingredients:\n",
        "    resources[item] -= ingredients[item]\n",
        "\n",
        "  print(f\"Here is your {coffee_name}.....Enjoy\")\n",
        "\n",
        "\n",
        "\n",
        "\n",
        "\n",
        "\n"
      ]
    },
    {
      "cell_type": "code",
      "source": [
        "is_on = True\n",
        "\n",
        "while is_on:\n",
        "  choice = input(\"What would you like to have? (Latte/Espresso/Cappuccino):\").lower()\n",
        "\n",
        "\n",
        "  if choice == \"off\":\n",
        "    is_on = False\n",
        "\n",
        "  elif choice == \"report\":\n",
        "    print(f\"Water:{resources['water']}\\nMilk:{resources['milk']}\\nCoffee::{resources['coffee']}\\nMoney:{profit}\")\n",
        "\n",
        "  else:\n",
        "    coffee_type = menu[choice]\n",
        "    print(f\"The cost of {choice} is ${coffee_type['cost']}\")\n",
        "\n",
        "    if check_resources(coffee_type['ingredients']):\n",
        "      print(f\"Please insert coins\")\n",
        "      payment = process_coins()\n",
        "      if payment_process(payment,coffee_type['cost']):\n",
        "        make_coffee(choice,coffee_type['ingredients'])\n",
        "\n",
        "\n",
        "\n"
      ],
      "metadata": {
        "colab": {
          "base_uri": "https://localhost:8080/"
        },
        "id": "35Mb5CF5orzu",
        "outputId": "f3db771f-6fef-4e1f-c0fd-911172533965"
      },
      "execution_count": 27,
      "outputs": [
        {
          "name": "stdout",
          "output_type": "stream",
          "text": [
            "What would you like to have? (Latte/Espresso/Cappuccino):latte\n",
            "The cost of latte is $2.5\n",
            "Please insert coins\n",
            "How many Quarters?:11\n",
            "How many Dimes?:0\n",
            "How many Nickles?:0\n",
            "How many Pennies?:0\n",
            "Here is your 0.25 change.\n",
            "Here is your latte.....Enjoy\n",
            "What would you like to have? (Latte/Espresso/Cappuccino):espresso\n",
            "The cost of espresso is $1.5\n",
            "Please insert coins\n",
            "How many Quarters?:10\n",
            "How many Dimes?:0\n",
            "How many Nickles?:0\n",
            "How many Pennies?:0\n",
            "Here is your 1.0 change.\n",
            "Here is your espresso.....Enjoy\n",
            "What would you like to have? (Latte/Espresso/Cappuccino):cappuccino\n",
            "The cost of cappuccino is $3.0\n",
            "More water required, Please refill\n",
            "What would you like to have? (Latte/Espresso/Cappuccino):report\n",
            "Water:50\n",
            "Milk:50\n",
            "Coffee::58\n",
            "Money:4.0\n",
            "What would you like to have? (Latte/Espresso/Cappuccino):off\n"
          ]
        }
      ]
    }
  ]
}